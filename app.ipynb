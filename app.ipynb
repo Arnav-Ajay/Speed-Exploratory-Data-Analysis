{
  "nbformat": 4,
  "nbformat_minor": 0,
  "metadata": {
    "colab": {
      "name": "app.ipynb",
      "provenance": [],
      "collapsed_sections": [],
      "authorship_tag": "ABX9TyMake4zaaUE7/Z/6r/0f/Hh",
      "include_colab_link": true
    },
    "kernelspec": {
      "name": "python3",
      "display_name": "Python 3"
    },
    "language_info": {
      "name": "python"
    }
  },
  "cells": [
    {
      "cell_type": "markdown",
      "metadata": {
        "id": "view-in-github",
        "colab_type": "text"
      },
      "source": [
        "<a href=\"https://colab.research.google.com/github/Arnav-Ajay/Speed-Exploratory-Data-Analysis/blob/main/app.ipynb\" target=\"_parent\"><img src=\"https://colab.research.google.com/assets/colab-badge.svg\" alt=\"Open In Colab\"/></a>"
      ]
    },
    {
      "cell_type": "code",
      "execution_count": null,
      "metadata": {
        "id": "1LSje-4YEFyJ"
      },
      "outputs": [],
      "source": [
        "import numpy as np\n",
        "import pandas as pd\n",
        "import streamlit as st\n",
        "from pandas_profiling import ProfileReport\n",
        "from streamlit_pandas_profiling import st_profile_report\n",
        "\n",
        "# Web App Title\n",
        "st.markdown('''\n",
        "# **The EDA App**\n",
        "This is the **EDA App** created in Streamlit using the **pandas-profiling** library.\n",
        "**Credit:** App built in `Python` + `Streamlit` by [Chanin Nantasenamat](https://medium.com/@chanin.nantasenamat) (aka [Data Professor](http://youtube.com/dataprofessor))\n",
        "---\n",
        "''')\n",
        "\n",
        "# Upload CSV data\n",
        "with st.sidebar.header('1. Upload your CSV data'):\n",
        "    uploaded_file = st.sidebar.file_uploader(\"Upload your input CSV file\", type=[\"csv\"])\n",
        "    st.sidebar.markdown(\"\"\"\n",
        "[Example CSV input file](https://raw.githubusercontent.com/dataprofessor/data/master/delaney_solubility_with_descriptors.csv)\n",
        "\"\"\")\n",
        "\n",
        "# Pandas Profiling Report\n",
        "if uploaded_file is not None:\n",
        "    @st.cache\n",
        "    def load_csv():\n",
        "        csv = pd.read_csv(uploaded_file)\n",
        "        return csv\n",
        "    df = load_csv()\n",
        "    pr = ProfileReport(df, explorative=True)\n",
        "    st.header('**Input DataFrame**')\n",
        "    st.write(df)\n",
        "    st.write('---')\n",
        "    st.header('**Pandas Profiling Report**')\n",
        "    st_profile_report(pr)\n",
        "else:\n",
        "    st.info('Awaiting for CSV file to be uploaded.')\n",
        "    if st.button('Press to use Example Dataset'):\n",
        "        # Example data\n",
        "        @st.cache\n",
        "        def load_data():\n",
        "            a = pd.DataFrame(\n",
        "                np.random.rand(100, 5),\n",
        "                columns=['a', 'b', 'c', 'd', 'e']\n",
        "            )\n",
        "            return a\n",
        "        df = load_data()\n",
        "        pr = ProfileReport(df, explorative=True)\n",
        "        st.header('**Input DataFrame**')\n",
        "        st.write(df)\n",
        "        st.write('---')\n",
        "        st.header('**Pandas Profiling Report**')\n",
        "        st_profile_report(pr)"
      ]
    }
  ]
}